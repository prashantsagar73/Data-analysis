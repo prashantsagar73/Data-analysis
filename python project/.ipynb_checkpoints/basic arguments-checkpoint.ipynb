{
 "cells": [
  {
   "cell_type": "code",
   "execution_count": 1,
   "metadata": {},
   "outputs": [],
   "source": [
    "import pandas as pd"
   ]
  },
  {
   "cell_type": "code",
   "execution_count": null,
   "metadata": {},
   "outputs": [],
   "source": []
  },
  {
   "cell_type": "code",
   "execution_count": 4,
   "metadata": {},
   "outputs": [
    {
     "data": {
      "text/html": [
       "<div>\n",
       "<style scoped>\n",
       "    .dataframe tbody tr th:only-of-type {\n",
       "        vertical-align: middle;\n",
       "    }\n",
       "\n",
       "    .dataframe tbody tr th {\n",
       "        vertical-align: top;\n",
       "    }\n",
       "\n",
       "    .dataframe thead th {\n",
       "        text-align: right;\n",
       "    }\n",
       "</style>\n",
       "<table border=\"1\" class=\"dataframe\">\n",
       "  <thead>\n",
       "    <tr style=\"text-align: right;\">\n",
       "      <th></th>\n",
       "      <th>Pokemon</th>\n",
       "    </tr>\n",
       "  </thead>\n",
       "  <tbody>\n",
       "    <tr>\n",
       "      <td>0</td>\n",
       "      <td>Bulbasaur</td>\n",
       "    </tr>\n",
       "    <tr>\n",
       "      <td>1</td>\n",
       "      <td>Ivysaur</td>\n",
       "    </tr>\n",
       "    <tr>\n",
       "      <td>2</td>\n",
       "      <td>Venusaur</td>\n",
       "    </tr>\n",
       "    <tr>\n",
       "      <td>3</td>\n",
       "      <td>Charmander</td>\n",
       "    </tr>\n",
       "    <tr>\n",
       "      <td>4</td>\n",
       "      <td>Charmeleon</td>\n",
       "    </tr>\n",
       "    <tr>\n",
       "      <td>...</td>\n",
       "      <td>...</td>\n",
       "    </tr>\n",
       "    <tr>\n",
       "      <td>716</td>\n",
       "      <td>Yveltal</td>\n",
       "    </tr>\n",
       "    <tr>\n",
       "      <td>717</td>\n",
       "      <td>Zygarde</td>\n",
       "    </tr>\n",
       "    <tr>\n",
       "      <td>718</td>\n",
       "      <td>Diancie</td>\n",
       "    </tr>\n",
       "    <tr>\n",
       "      <td>719</td>\n",
       "      <td>Hoopa</td>\n",
       "    </tr>\n",
       "    <tr>\n",
       "      <td>720</td>\n",
       "      <td>Volcanion</td>\n",
       "    </tr>\n",
       "  </tbody>\n",
       "</table>\n",
       "<p>721 rows × 1 columns</p>\n",
       "</div>"
      ],
      "text/plain": [
       "        Pokemon\n",
       "0     Bulbasaur\n",
       "1       Ivysaur\n",
       "2      Venusaur\n",
       "3    Charmander\n",
       "4    Charmeleon\n",
       "..          ...\n",
       "716     Yveltal\n",
       "717     Zygarde\n",
       "718     Diancie\n",
       "719       Hoopa\n",
       "720   Volcanion\n",
       "\n",
       "[721 rows x 1 columns]"
      ]
     },
     "execution_count": 4,
     "metadata": {},
     "output_type": "execute_result"
    }
   ],
   "source": [
    "pd.read_csv(\"pokemon.csv\",usecols=[\"Pokemon\"],squeeze= False)"
   ]
  },
  {
   "cell_type": "code",
   "execution_count": 2,
   "metadata": {},
   "outputs": [
    {
     "data": {
      "text/plain": [
       "0        Grass\n",
       "1        Grass\n",
       "2        Grass\n",
       "3         Fire\n",
       "4         Fire\n",
       "        ...   \n",
       "716       Dark\n",
       "717     Dragon\n",
       "718       Rock\n",
       "719    Psychic\n",
       "720       Fire\n",
       "Name: Type, Length: 721, dtype: object"
      ]
     },
     "execution_count": 2,
     "metadata": {},
     "output_type": "execute_result"
    }
   ],
   "source": [
    "cartoon=pd.read_csv(\"pokemon.csv\",usecols=[\"Type\"],squeeze=True)\n",
    "cartoon"
   ]
  },
  {
   "cell_type": "code",
   "execution_count": 17,
   "metadata": {},
   "outputs": [
    {
     "data": {
      "text/plain": [
       "0    Grass\n",
       "1    Grass\n",
       "2    Grass\n",
       "3     Fire\n",
       "4     Fire\n",
       "Name: Type, dtype: object"
      ]
     },
     "execution_count": 17,
     "metadata": {},
     "output_type": "execute_result"
    }
   ],
   "source": [
    "cartoon.head()"
   ]
  },
  {
   "cell_type": "code",
   "execution_count": 19,
   "metadata": {
    "collapsed": true
   },
   "outputs": [
    {
     "data": {
      "text/plain": [
       "{0: 'Grass',\n",
       " 1: 'Grass',\n",
       " 2: 'Grass',\n",
       " 3: 'Fire',\n",
       " 4: 'Fire',\n",
       " 5: 'Fire',\n",
       " 6: 'Water',\n",
       " 7: 'Water',\n",
       " 8: 'Water',\n",
       " 9: 'Bug',\n",
       " 10: 'Bug',\n",
       " 11: 'Bug',\n",
       " 12: 'Bug',\n",
       " 13: 'Bug',\n",
       " 14: 'Bug',\n",
       " 15: 'Normal',\n",
       " 16: 'Normal',\n",
       " 17: 'Normal',\n",
       " 18: 'Normal',\n",
       " 19: 'Normal',\n",
       " 20: 'Normal',\n",
       " 21: 'Normal',\n",
       " 22: 'Poison',\n",
       " 23: 'Poison',\n",
       " 24: 'Electric',\n",
       " 25: 'Electric',\n",
       " 26: 'Ground',\n",
       " 27: 'Ground',\n",
       " 28: 'Poison',\n",
       " 29: 'Poison',\n",
       " 30: 'Poison',\n",
       " 31: 'Poison',\n",
       " 32: 'Poison',\n",
       " 33: 'Poison',\n",
       " 34: 'Fairy',\n",
       " 35: 'Fairy',\n",
       " 36: 'Fire',\n",
       " 37: 'Fire',\n",
       " 38: 'Normal',\n",
       " 39: 'Normal',\n",
       " 40: 'Poison',\n",
       " 41: 'Poison',\n",
       " 42: 'Grass',\n",
       " 43: 'Grass',\n",
       " 44: 'Grass',\n",
       " 45: 'Bug',\n",
       " 46: 'Bug',\n",
       " 47: 'Bug',\n",
       " 48: 'Bug',\n",
       " 49: 'Ground',\n",
       " 50: 'Ground',\n",
       " 51: 'Normal',\n",
       " 52: 'Normal',\n",
       " 53: 'Water',\n",
       " 54: 'Water',\n",
       " 55: 'Fighting',\n",
       " 56: 'Fighting',\n",
       " 57: 'Fire',\n",
       " 58: 'Fire',\n",
       " 59: 'Water',\n",
       " 60: 'Water',\n",
       " 61: 'Water',\n",
       " 62: 'Psychic',\n",
       " 63: 'Psychic',\n",
       " 64: 'Psychic',\n",
       " 65: 'Fighting',\n",
       " 66: 'Fighting',\n",
       " 67: 'Fighting',\n",
       " 68: 'Grass',\n",
       " 69: 'Grass',\n",
       " 70: 'Grass',\n",
       " 71: 'Water',\n",
       " 72: 'Water',\n",
       " 73: 'Rock',\n",
       " 74: 'Rock',\n",
       " 75: 'Rock',\n",
       " 76: 'Fire',\n",
       " 77: 'Fire',\n",
       " 78: 'Water',\n",
       " 79: 'Water',\n",
       " 80: 'Electric',\n",
       " 81: 'Electric',\n",
       " 82: 'Normal',\n",
       " 83: 'Normal',\n",
       " 84: 'Normal',\n",
       " 85: 'Water',\n",
       " 86: 'Water',\n",
       " 87: 'Poison',\n",
       " 88: 'Poison',\n",
       " 89: 'Water',\n",
       " 90: 'Water',\n",
       " 91: 'Ghost',\n",
       " 92: 'Ghost',\n",
       " 93: 'Ghost',\n",
       " 94: 'Rock',\n",
       " 95: 'Psychic',\n",
       " 96: 'Psychic',\n",
       " 97: 'Water',\n",
       " 98: 'Water',\n",
       " 99: 'Electric',\n",
       " 100: 'Electric',\n",
       " 101: 'Grass',\n",
       " 102: 'Grass',\n",
       " 103: 'Ground',\n",
       " 104: 'Ground',\n",
       " 105: 'Fighting',\n",
       " 106: 'Fighting',\n",
       " 107: 'Normal',\n",
       " 108: 'Poison',\n",
       " 109: 'Poison',\n",
       " 110: 'Ground',\n",
       " 111: 'Ground',\n",
       " 112: 'Normal',\n",
       " 113: 'Grass',\n",
       " 114: 'Normal',\n",
       " 115: 'Water',\n",
       " 116: 'Water',\n",
       " 117: 'Water',\n",
       " 118: 'Water',\n",
       " 119: 'Water',\n",
       " 120: 'Water',\n",
       " 121: 'Psychic',\n",
       " 122: 'Bug',\n",
       " 123: 'Ice',\n",
       " 124: 'Electric',\n",
       " 125: 'Fire',\n",
       " 126: 'Bug',\n",
       " 127: 'Normal',\n",
       " 128: 'Water',\n",
       " 129: 'Water',\n",
       " 130: 'Water',\n",
       " 131: 'Normal',\n",
       " 132: 'Normal',\n",
       " 133: 'Water',\n",
       " 134: 'Electric',\n",
       " 135: 'Fire',\n",
       " 136: 'Normal',\n",
       " 137: 'Rock',\n",
       " 138: 'Rock',\n",
       " 139: 'Rock',\n",
       " 140: 'Rock',\n",
       " 141: 'Rock',\n",
       " 142: 'Normal',\n",
       " 143: 'Ice',\n",
       " 144: 'Electric',\n",
       " 145: 'Fire',\n",
       " 146: 'Dragon',\n",
       " 147: 'Dragon',\n",
       " 148: 'Dragon',\n",
       " 149: 'Psychic',\n",
       " 150: 'Psychic',\n",
       " 151: 'Grass',\n",
       " 152: 'Grass',\n",
       " 153: 'Grass',\n",
       " 154: 'Fire',\n",
       " 155: 'Fire',\n",
       " 156: 'Fire',\n",
       " 157: 'Water',\n",
       " 158: 'Water',\n",
       " 159: 'Water',\n",
       " 160: 'Normal',\n",
       " 161: 'Normal',\n",
       " 162: 'Normal',\n",
       " 163: 'Normal',\n",
       " 164: 'Bug',\n",
       " 165: 'Bug',\n",
       " 166: 'Bug',\n",
       " 167: 'Bug',\n",
       " 168: 'Poison',\n",
       " 169: 'Water',\n",
       " 170: 'Water',\n",
       " 171: 'Electric',\n",
       " 172: 'Fairy',\n",
       " 173: 'Normal',\n",
       " 174: 'Fairy',\n",
       " 175: 'Fairy',\n",
       " 176: 'Psychic',\n",
       " 177: 'Psychic',\n",
       " 178: 'Electric',\n",
       " 179: 'Electric',\n",
       " 180: 'Electric',\n",
       " 181: 'Grass',\n",
       " 182: 'Water',\n",
       " 183: 'Water',\n",
       " 184: 'Rock',\n",
       " 185: 'Water',\n",
       " 186: 'Grass',\n",
       " 187: 'Grass',\n",
       " 188: 'Grass',\n",
       " 189: 'Normal',\n",
       " 190: 'Grass',\n",
       " 191: 'Grass',\n",
       " 192: 'Bug',\n",
       " 193: 'Water',\n",
       " 194: 'Water',\n",
       " 195: 'Psychic',\n",
       " 196: 'Dark',\n",
       " 197: 'Dark',\n",
       " 198: 'Water',\n",
       " 199: 'Ghost',\n",
       " 200: 'Psychic',\n",
       " 201: 'Psychic',\n",
       " 202: 'Normal',\n",
       " 203: 'Bug',\n",
       " 204: 'Bug',\n",
       " 205: 'Normal',\n",
       " 206: 'Ground',\n",
       " 207: 'Steel',\n",
       " 208: 'Fairy',\n",
       " 209: 'Fairy',\n",
       " 210: 'Water',\n",
       " 211: 'Bug',\n",
       " 212: 'Bug',\n",
       " 213: 'Bug',\n",
       " 214: 'Dark',\n",
       " 215: 'Normal',\n",
       " 216: 'Normal',\n",
       " 217: 'Fire',\n",
       " 218: 'Fire',\n",
       " 219: 'Ice',\n",
       " 220: 'Ice',\n",
       " 221: 'Water',\n",
       " 222: 'Water',\n",
       " 223: 'Water',\n",
       " 224: 'Ice',\n",
       " 225: 'Water',\n",
       " 226: 'Steel',\n",
       " 227: 'Dark',\n",
       " 228: 'Dark',\n",
       " 229: 'Water',\n",
       " 230: 'Ground',\n",
       " 231: 'Ground',\n",
       " 232: 'Normal',\n",
       " 233: 'Normal',\n",
       " 234: 'Normal',\n",
       " 235: 'Fighting',\n",
       " 236: 'Fighting',\n",
       " 237: 'Ice',\n",
       " 238: 'Electric',\n",
       " 239: 'Fire',\n",
       " 240: 'Normal',\n",
       " 241: 'Normal',\n",
       " 242: 'Electric',\n",
       " 243: 'Fire',\n",
       " 244: 'Water',\n",
       " 245: 'Rock',\n",
       " 246: 'Rock',\n",
       " 247: 'Rock',\n",
       " 248: 'Psychic',\n",
       " 249: 'Fire',\n",
       " 250: 'Psychic',\n",
       " 251: 'Grass',\n",
       " 252: 'Grass',\n",
       " 253: 'Grass',\n",
       " 254: 'Fire',\n",
       " 255: 'Fire',\n",
       " 256: 'Fire',\n",
       " 257: 'Water',\n",
       " 258: 'Water',\n",
       " 259: 'Water',\n",
       " 260: 'Dark',\n",
       " 261: 'Dark',\n",
       " 262: 'Normal',\n",
       " 263: 'Normal',\n",
       " 264: 'Bug',\n",
       " 265: 'Bug',\n",
       " 266: 'Bug',\n",
       " 267: 'Bug',\n",
       " 268: 'Bug',\n",
       " 269: 'Water',\n",
       " 270: 'Water',\n",
       " 271: 'Water',\n",
       " 272: 'Grass',\n",
       " 273: 'Grass',\n",
       " 274: 'Grass',\n",
       " 275: 'Normal',\n",
       " 276: 'Normal',\n",
       " 277: 'Water',\n",
       " 278: 'Water',\n",
       " 279: 'Psychic',\n",
       " 280: 'Psychic',\n",
       " 281: 'Psychic',\n",
       " 282: 'Bug',\n",
       " 283: 'Bug',\n",
       " 284: 'Grass',\n",
       " 285: 'Grass',\n",
       " 286: 'Normal',\n",
       " 287: 'Normal',\n",
       " 288: 'Normal',\n",
       " 289: 'Bug',\n",
       " 290: 'Bug',\n",
       " 291: 'Bug',\n",
       " 292: 'Normal',\n",
       " 293: 'Normal',\n",
       " 294: 'Normal',\n",
       " 295: 'Fighting',\n",
       " 296: 'Fighting',\n",
       " 297: 'Normal',\n",
       " 298: 'Rock',\n",
       " 299: 'Normal',\n",
       " 300: 'Normal',\n",
       " 301: 'Dark',\n",
       " 302: 'Steel',\n",
       " 303: 'Steel',\n",
       " 304: 'Steel',\n",
       " 305: 'Steel',\n",
       " 306: 'Fighting',\n",
       " 307: 'Fighting',\n",
       " 308: 'Electric',\n",
       " 309: 'Electric',\n",
       " 310: 'Electric',\n",
       " 311: 'Electric',\n",
       " 312: 'Bug',\n",
       " 313: 'Bug',\n",
       " 314: 'Grass',\n",
       " 315: 'Poison',\n",
       " 316: 'Poison',\n",
       " 317: 'Water',\n",
       " 318: 'Water',\n",
       " 319: 'Water',\n",
       " 320: 'Water',\n",
       " 321: 'Fire',\n",
       " 322: 'Fire',\n",
       " 323: 'Fire',\n",
       " 324: 'Psychic',\n",
       " 325: 'Psychic',\n",
       " 326: 'Normal',\n",
       " 327: 'Ground',\n",
       " 328: 'Ground',\n",
       " 329: 'Ground',\n",
       " 330: 'Grass',\n",
       " 331: 'Grass',\n",
       " 332: 'Normal',\n",
       " 333: 'Dragon',\n",
       " 334: 'Normal',\n",
       " 335: 'Poison',\n",
       " 336: 'Rock',\n",
       " 337: 'Rock',\n",
       " 338: 'Water',\n",
       " 339: 'Water',\n",
       " 340: 'Water',\n",
       " 341: 'Water',\n",
       " 342: 'Ground',\n",
       " 343: 'Ground',\n",
       " 344: 'Rock',\n",
       " 345: 'Rock',\n",
       " 346: 'Rock',\n",
       " 347: 'Rock',\n",
       " 348: 'Water',\n",
       " 349: 'Water',\n",
       " 350: 'Normal',\n",
       " 351: 'Normal',\n",
       " 352: 'Ghost',\n",
       " 353: 'Ghost',\n",
       " 354: 'Ghost',\n",
       " 355: 'Ghost',\n",
       " 356: 'Grass',\n",
       " 357: 'Psychic',\n",
       " 358: 'Dark',\n",
       " 359: 'Psychic',\n",
       " 360: 'Ice',\n",
       " 361: 'Ice',\n",
       " 362: 'Ice',\n",
       " 363: 'Ice',\n",
       " 364: 'Ice',\n",
       " 365: 'Water',\n",
       " 366: 'Water',\n",
       " 367: 'Water',\n",
       " 368: 'Water',\n",
       " 369: 'Water',\n",
       " 370: 'Dragon',\n",
       " 371: 'Dragon',\n",
       " 372: 'Dragon',\n",
       " 373: 'Steel',\n",
       " 374: 'Steel',\n",
       " 375: 'Steel',\n",
       " 376: 'Rock',\n",
       " 377: 'Ice',\n",
       " 378: 'Steel',\n",
       " 379: 'Dragon',\n",
       " 380: 'Dragon',\n",
       " 381: 'Water',\n",
       " 382: 'Ground',\n",
       " 383: 'Dragon',\n",
       " 384: 'Steel',\n",
       " 385: 'Psychic',\n",
       " 386: 'Grass',\n",
       " 387: 'Grass',\n",
       " 388: 'Grass',\n",
       " 389: 'Fire',\n",
       " 390: 'Fire',\n",
       " 391: 'Fire',\n",
       " 392: 'Water',\n",
       " 393: 'Water',\n",
       " 394: 'Water',\n",
       " 395: 'Normal',\n",
       " 396: 'Normal',\n",
       " 397: 'Normal',\n",
       " 398: 'Normal',\n",
       " 399: 'Normal',\n",
       " 400: 'Bug',\n",
       " 401: 'Bug',\n",
       " 402: 'Electric',\n",
       " 403: 'Electric',\n",
       " 404: 'Electric',\n",
       " 405: 'Grass',\n",
       " 406: 'Grass',\n",
       " 407: 'Rock',\n",
       " 408: 'Rock',\n",
       " 409: 'Rock',\n",
       " 410: 'Rock',\n",
       " 411: 'Bug',\n",
       " 412: 'Bug',\n",
       " 413: 'Bug',\n",
       " 414: 'Bug',\n",
       " 415: 'Bug',\n",
       " 416: 'Electric',\n",
       " 417: 'Water',\n",
       " 418: 'Water',\n",
       " 419: 'Grass',\n",
       " 420: 'Grass',\n",
       " 421: 'Water',\n",
       " 422: 'Water',\n",
       " 423: 'Normal',\n",
       " 424: 'Ghost',\n",
       " 425: 'Ghost',\n",
       " 426: 'Normal',\n",
       " 427: 'Normal',\n",
       " 428: 'Ghost',\n",
       " 429: 'Dark',\n",
       " 430: 'Normal',\n",
       " 431: 'Normal',\n",
       " 432: 'Psychic',\n",
       " 433: 'Poison',\n",
       " 434: 'Poison',\n",
       " 435: 'Steel',\n",
       " 436: 'Steel',\n",
       " 437: 'Rock',\n",
       " 438: 'Psychic',\n",
       " 439: 'Normal',\n",
       " 440: 'Normal',\n",
       " 441: 'Ghost',\n",
       " 442: 'Dragon',\n",
       " 443: 'Dragon',\n",
       " 444: 'Dragon',\n",
       " 445: 'Normal',\n",
       " 446: 'Fighting',\n",
       " 447: 'Fighting',\n",
       " 448: 'Ground',\n",
       " 449: 'Ground',\n",
       " 450: 'Poison',\n",
       " 451: 'Poison',\n",
       " 452: 'Poison',\n",
       " 453: 'Poison',\n",
       " 454: 'Grass',\n",
       " 455: 'Water',\n",
       " 456: 'Water',\n",
       " 457: 'Water',\n",
       " 458: 'Grass',\n",
       " 459: 'Grass',\n",
       " 460: 'Dark',\n",
       " 461: 'Electric',\n",
       " 462: 'Normal',\n",
       " 463: 'Ground',\n",
       " 464: 'Grass',\n",
       " 465: 'Electric',\n",
       " 466: 'Fire',\n",
       " 467: 'Fairy',\n",
       " 468: 'Bug',\n",
       " 469: 'Grass',\n",
       " 470: 'Ice',\n",
       " 471: 'Ground',\n",
       " 472: 'Ice',\n",
       " 473: 'Normal',\n",
       " 474: 'Psychic',\n",
       " 475: 'Rock',\n",
       " 476: 'Ghost',\n",
       " 477: 'Ice',\n",
       " 478: 'Electric',\n",
       " 479: 'Psychic',\n",
       " 480: 'Psychic',\n",
       " 481: 'Psychic',\n",
       " 482: 'Steel',\n",
       " 483: 'Water',\n",
       " 484: 'Fire',\n",
       " 485: 'Normal',\n",
       " 486: 'Ghost',\n",
       " 487: 'Psychic',\n",
       " 488: 'Water',\n",
       " 489: 'Water',\n",
       " 490: 'Dark',\n",
       " 491: 'Grass',\n",
       " 492: 'Normal',\n",
       " 493: 'Psychic',\n",
       " 494: 'Grass',\n",
       " 495: 'Grass',\n",
       " 496: 'Grass',\n",
       " 497: 'Fire',\n",
       " 498: 'Fire',\n",
       " 499: 'Fire',\n",
       " 500: 'Water',\n",
       " 501: 'Water',\n",
       " 502: 'Water',\n",
       " 503: 'Normal',\n",
       " 504: 'Normal',\n",
       " 505: 'Normal',\n",
       " 506: 'Normal',\n",
       " 507: 'Normal',\n",
       " 508: 'Dark',\n",
       " 509: 'Dark',\n",
       " 510: 'Grass',\n",
       " 511: 'Grass',\n",
       " 512: 'Fire',\n",
       " 513: 'Fire',\n",
       " 514: 'Water',\n",
       " 515: 'Water',\n",
       " 516: 'Psychic',\n",
       " 517: 'Psychic',\n",
       " 518: 'Normal',\n",
       " 519: 'Normal',\n",
       " 520: 'Normal',\n",
       " 521: 'Electric',\n",
       " 522: 'Electric',\n",
       " 523: 'Rock',\n",
       " 524: 'Rock',\n",
       " 525: 'Rock',\n",
       " 526: 'Psychic',\n",
       " 527: 'Psychic',\n",
       " 528: 'Ground',\n",
       " 529: 'Ground',\n",
       " 530: 'Normal',\n",
       " 531: 'Fighting',\n",
       " 532: 'Fighting',\n",
       " 533: 'Fighting',\n",
       " 534: 'Water',\n",
       " 535: 'Water',\n",
       " 536: 'Water',\n",
       " 537: 'Fighting',\n",
       " 538: 'Fighting',\n",
       " 539: 'Bug',\n",
       " 540: 'Bug',\n",
       " 541: 'Bug',\n",
       " 542: 'Bug',\n",
       " 543: 'Bug',\n",
       " 544: 'Bug',\n",
       " 545: 'Grass',\n",
       " 546: 'Grass',\n",
       " 547: 'Grass',\n",
       " 548: 'Grass',\n",
       " 549: 'Water',\n",
       " 550: 'Ground',\n",
       " 551: 'Ground',\n",
       " 552: 'Ground',\n",
       " 553: 'Fire',\n",
       " 554: 'Fire',\n",
       " 555: 'Grass',\n",
       " 556: 'Bug',\n",
       " 557: 'Bug',\n",
       " 558: 'Dark',\n",
       " 559: 'Dark',\n",
       " 560: 'Psychic',\n",
       " 561: 'Ghost',\n",
       " 562: 'Ghost',\n",
       " 563: 'Water',\n",
       " 564: 'Water',\n",
       " 565: 'Rock',\n",
       " 566: 'Rock',\n",
       " 567: 'Poison',\n",
       " 568: 'Poison',\n",
       " 569: 'Dark',\n",
       " 570: 'Dark',\n",
       " 571: 'Normal',\n",
       " 572: 'Normal',\n",
       " 573: 'Psychic',\n",
       " 574: 'Psychic',\n",
       " 575: 'Psychic',\n",
       " 576: 'Psychic',\n",
       " 577: 'Psychic',\n",
       " 578: 'Psychic',\n",
       " 579: 'Water',\n",
       " 580: 'Water',\n",
       " 581: 'Ice',\n",
       " 582: 'Ice',\n",
       " 583: 'Ice',\n",
       " 584: 'Normal',\n",
       " 585: 'Normal',\n",
       " 586: 'Electric',\n",
       " 587: 'Bug',\n",
       " 588: 'Bug',\n",
       " 589: 'Grass',\n",
       " 590: 'Grass',\n",
       " 591: 'Water',\n",
       " 592: 'Water',\n",
       " 593: 'Water',\n",
       " 594: 'Bug',\n",
       " 595: 'Bug',\n",
       " 596: 'Grass',\n",
       " 597: 'Grass',\n",
       " 598: 'Steel',\n",
       " 599: 'Steel',\n",
       " 600: 'Steel',\n",
       " 601: 'Electric',\n",
       " 602: 'Electric',\n",
       " 603: 'Electric',\n",
       " 604: 'Psychic',\n",
       " 605: 'Psychic',\n",
       " 606: 'Ghost',\n",
       " 607: 'Ghost',\n",
       " 608: 'Ghost',\n",
       " 609: 'Dragon',\n",
       " 610: 'Dragon',\n",
       " 611: 'Dragon',\n",
       " 612: 'Ice',\n",
       " 613: 'Ice',\n",
       " 614: 'Ice',\n",
       " 615: 'Bug',\n",
       " 616: 'Bug',\n",
       " 617: 'Ground',\n",
       " 618: 'Fighting',\n",
       " 619: 'Fighting',\n",
       " 620: 'Dragon',\n",
       " 621: 'Ground',\n",
       " 622: 'Ground',\n",
       " 623: 'Dark',\n",
       " 624: 'Dark',\n",
       " 625: 'Normal',\n",
       " 626: 'Normal',\n",
       " 627: 'Normal',\n",
       " 628: 'Dark',\n",
       " 629: 'Dark',\n",
       " 630: 'Fire',\n",
       " 631: 'Bug',\n",
       " 632: 'Dark',\n",
       " 633: 'Dark',\n",
       " 634: 'Dark',\n",
       " 635: 'Bug',\n",
       " 636: 'Bug',\n",
       " 637: 'Steel',\n",
       " 638: 'Rock',\n",
       " 639: 'Grass',\n",
       " 640: 'Flying',\n",
       " 641: 'Electric',\n",
       " 642: 'Dragon',\n",
       " 643: 'Dragon',\n",
       " 644: 'Ground',\n",
       " 645: 'Dragon',\n",
       " 646: 'Water',\n",
       " 647: 'Normal',\n",
       " 648: 'Bug',\n",
       " 649: 'Grass',\n",
       " 650: 'Grass',\n",
       " 651: 'Grass',\n",
       " 652: 'Fire',\n",
       " 653: 'Fire',\n",
       " 654: 'Fire',\n",
       " 655: 'Water',\n",
       " 656: 'Water',\n",
       " 657: 'Water',\n",
       " 658: 'Normal',\n",
       " 659: 'Normal',\n",
       " 660: 'Normal',\n",
       " 661: 'Fire',\n",
       " 662: 'Fire',\n",
       " 663: 'Bug',\n",
       " 664: 'Bug',\n",
       " 665: 'Bug',\n",
       " 666: 'Fire',\n",
       " 667: 'Fire',\n",
       " 668: 'Fairy',\n",
       " 669: 'Fairy',\n",
       " 670: 'Fairy',\n",
       " 671: 'Grass',\n",
       " 672: 'Grass',\n",
       " 673: 'Fighting',\n",
       " 674: 'Fighting',\n",
       " 675: 'Normal',\n",
       " 676: 'Psychic',\n",
       " 677: 'Psychic',\n",
       " 678: 'Steel',\n",
       " 679: 'Steel',\n",
       " 680: 'Steel',\n",
       " 681: 'Fairy',\n",
       " 682: 'Fairy',\n",
       " 683: 'Fairy',\n",
       " 684: 'Fairy',\n",
       " 685: 'Dark',\n",
       " 686: 'Dark',\n",
       " 687: 'Rock',\n",
       " 688: 'Rock',\n",
       " 689: 'Poison',\n",
       " 690: 'Poison',\n",
       " 691: 'Water',\n",
       " 692: 'Water',\n",
       " 693: 'Electric',\n",
       " 694: 'Electric',\n",
       " 695: 'Rock',\n",
       " 696: 'Rock',\n",
       " 697: 'Rock',\n",
       " 698: 'Rock',\n",
       " 699: 'Fairy',\n",
       " 700: 'Fighting',\n",
       " 701: 'Electric',\n",
       " 702: 'Rock',\n",
       " 703: 'Dragon',\n",
       " 704: 'Dragon',\n",
       " 705: 'Dragon',\n",
       " 706: 'Steel',\n",
       " 707: 'Ghost',\n",
       " 708: 'Ghost',\n",
       " 709: 'Ghost',\n",
       " 710: 'Ghost',\n",
       " 711: 'Ice',\n",
       " 712: 'Ice',\n",
       " 713: 'Flying',\n",
       " 714: 'Flying',\n",
       " 715: 'Fairy',\n",
       " 716: 'Dark',\n",
       " 717: 'Dragon',\n",
       " 718: 'Rock',\n",
       " 719: 'Psychic',\n",
       " 720: 'Fire'}"
      ]
     },
     "execution_count": 19,
     "metadata": {},
     "output_type": "execute_result"
    }
   ],
   "source": [
    "dict(cartoon)\n",
    "# show what it contain"
   ]
  },
  {
   "cell_type": "code",
   "execution_count": 20,
   "metadata": {},
   "outputs": [
    {
     "data": {
      "text/plain": [
       "'Bug'"
      ]
     },
     "execution_count": 20,
     "metadata": {},
     "output_type": "execute_result"
    }
   ],
   "source": [
    "cartoon.min()\n",
    "# tell min values in list"
   ]
  },
  {
   "cell_type": "code",
   "execution_count": 21,
   "metadata": {},
   "outputs": [
    {
     "data": {
      "text/plain": [
       "'Water'"
      ]
     },
     "execution_count": 21,
     "metadata": {},
     "output_type": "execute_result"
    }
   ],
   "source": [
    "cartoon.max()"
   ]
  },
  {
   "cell_type": "code",
   "execution_count": 25,
   "metadata": {},
   "outputs": [
    {
     "data": {
      "text/plain": [
       "False"
      ]
     },
     "execution_count": 25,
     "metadata": {},
     "output_type": "execute_result"
    }
   ],
   "source": [
    "cartoon.is_unique\n",
    "# all valuea are same"
   ]
  },
  {
   "cell_type": "code",
   "execution_count": 27,
   "metadata": {},
   "outputs": [
    {
     "data": {
      "text/plain": [
       "(721,)"
      ]
     },
     "execution_count": 27,
     "metadata": {},
     "output_type": "execute_result"
    }
   ],
   "source": [
    "cartoon.shape\n",
    "# tell  no of rows "
   ]
  },
  {
   "cell_type": "code",
   "execution_count": 28,
   "metadata": {},
   "outputs": [
    {
     "data": {
      "text/plain": [
       "RangeIndex(start=0, stop=721, step=1)"
      ]
     },
     "execution_count": 28,
     "metadata": {},
     "output_type": "execute_result"
    }
   ],
   "source": [
    "cartoon.index"
   ]
  },
  {
   "cell_type": "code",
   "execution_count": 30,
   "metadata": {},
   "outputs": [
    {
     "data": {
      "text/plain": [
       "dtype('O')"
      ]
     },
     "execution_count": 30,
     "metadata": {},
     "output_type": "execute_result"
    }
   ],
   "source": [
    "cartoon.dtype\n",
    "# tell the datatype"
   ]
  },
  {
   "cell_type": "code",
   "execution_count": 31,
   "metadata": {},
   "outputs": [
    {
     "data": {
      "text/plain": [
       "721"
      ]
     },
     "execution_count": 31,
     "metadata": {},
     "output_type": "execute_result"
    }
   ],
   "source": [
    "cartoon.size\n",
    "# tell the no of shell "
   ]
  },
  {
   "cell_type": "code",
   "execution_count": 33,
   "metadata": {},
   "outputs": [],
   "source": [
    "cartoon.name= \"pogo\" \n",
    "# it change the namae of series"
   ]
  },
  {
   "cell_type": "code",
   "execution_count": 34,
   "metadata": {},
   "outputs": [
    {
     "data": {
      "text/plain": [
       "0    Grass\n",
       "1    Grass\n",
       "2    Grass\n",
       "3     Fire\n",
       "4     Fire\n",
       "Name: pogo, dtype: object"
      ]
     },
     "execution_count": 34,
     "metadata": {},
     "output_type": "execute_result"
    }
   ],
   "source": [
    "cartoon.head()"
   ]
  },
  {
   "cell_type": "markdown",
   "metadata": {},
   "source": [
    "# # for shorting"
   ]
  },
  {
   "cell_type": "code",
   "execution_count": 48,
   "metadata": {},
   "outputs": [
    {
     "data": {
      "text/plain": [
       "401    Bug\n",
       "648    Bug\n",
       "544    Bug\n",
       "411    Bug\n",
       "541    Bug\n",
       "Name: pogo, dtype: object"
      ]
     },
     "execution_count": 48,
     "metadata": {},
     "output_type": "execute_result"
    }
   ],
   "source": [
    "cartoon.sort_values()\n",
    "# short the values ih ascending values"
   ]
  },
  {
   "cell_type": "code",
   "execution_count": 44,
   "metadata": {},
   "outputs": [],
   "source": [
    "cartoon= cartoon.sort_values().head()\n",
    "# reasign the change vlaue in cartoon "
   ]
  },
  {
   "cell_type": "code",
   "execution_count": 45,
   "metadata": {},
   "outputs": [
    {
     "data": {
      "text/plain": [
       "541    Bug\n",
       "411    Bug\n",
       "544    Bug\n",
       "648    Bug\n",
       "401    Bug\n",
       "Name: pogo, dtype: object"
      ]
     },
     "execution_count": 45,
     "metadata": {},
     "output_type": "execute_result"
    }
   ],
   "source": [
    "cartoon.head(5)"
   ]
  },
  {
   "cell_type": "code",
   "execution_count": 46,
   "metadata": {},
   "outputs": [],
   "source": [
    " cartoon.sort_values(ascending=False, inplace=True)\n",
    "# undo the change"
   ]
  },
  {
   "cell_type": "code",
   "execution_count": 47,
   "metadata": {},
   "outputs": [
    {
     "data": {
      "text/plain": [
       "401    Bug\n",
       "648    Bug\n",
       "544    Bug\n",
       "411    Bug\n",
       "541    Bug\n",
       "Name: pogo, dtype: object"
      ]
     },
     "execution_count": 47,
     "metadata": {},
     "output_type": "execute_result"
    }
   ],
   "source": [
    "cartoon.head(5)"
   ]
  },
  {
   "cell_type": "code",
   "execution_count": 54,
   "metadata": {},
   "outputs": [
    {
     "data": {
      "text/plain": [
       "648    Bug\n",
       "544    Bug\n",
       "541    Bug\n",
       "411    Bug\n",
       "401    Bug\n",
       "Name: pogo, dtype: object"
      ]
     },
     "execution_count": 54,
     "metadata": {},
     "output_type": "execute_result"
    }
   ],
   "source": [
    "cartoon.sort_index(ascending=False)"
   ]
  },
  {
   "cell_type": "code",
   "execution_count": 56,
   "metadata": {},
   "outputs": [
    {
     "data": {
      "text/plain": [
       "401    Bug\n",
       "648    Bug\n",
       "544    Bug\n",
       "411    Bug\n",
       "541    Bug\n",
       "Name: pogo, dtype: object"
      ]
     },
     "execution_count": 56,
     "metadata": {},
     "output_type": "execute_result"
    }
   ],
   "source": [
    "cartoon"
   ]
  },
  {
   "cell_type": "code",
   "execution_count": 53,
   "metadata": {},
   "outputs": [
    {
     "data": {
      "text/plain": [
       "401    Bug\n",
       "648    Bug\n",
       "544    Bug\n",
       "411    Bug\n",
       "541    Bug\n",
       "Name: pogo, dtype: object"
      ]
     },
     "execution_count": 53,
     "metadata": {},
     "output_type": "execute_result"
    }
   ],
   "source": [
    "cartoon"
   ]
  },
  {
   "cell_type": "code",
   "execution_count": 57,
   "metadata": {},
   "outputs": [],
   "source": [
    " cartoon.sort_values(ascending=False, inplace=True)"
   ]
  },
  {
   "cell_type": "code",
   "execution_count": 59,
   "metadata": {},
   "outputs": [
    {
     "data": {
      "text/plain": [
       "401    Bug\n",
       "411    Bug\n",
       "541    Bug\n",
       "544    Bug\n",
       "648    Bug\n",
       "Name: pogo, dtype: object"
      ]
     },
     "execution_count": 59,
     "metadata": {},
     "output_type": "execute_result"
    }
   ],
   "source": [
    "cartoon.sort_index(ascending=True)"
   ]
  },
  {
   "cell_type": "code",
   "execution_count": 67,
   "metadata": {},
   "outputs": [],
   "source": [
    " cartoon.sort_index(ascending= False, inplace=True)"
   ]
  },
  {
   "cell_type": "code",
   "execution_count": 68,
   "metadata": {},
   "outputs": [
    {
     "data": {
      "text/plain": [
       "648    Bug\n",
       "544    Bug\n",
       "541    Bug\n",
       "411    Bug\n",
       "Name: pogo, dtype: object"
      ]
     },
     "execution_count": 68,
     "metadata": {},
     "output_type": "execute_result"
    }
   ],
   "source": [
    "cartoon.head(4)"
   ]
  },
  {
   "cell_type": "code",
   "execution_count": 7,
   "metadata": {},
   "outputs": [
    {
     "data": {
      "text/plain": [
       "RangeIndex(start=0, stop=721, step=1)"
      ]
     },
     "execution_count": 7,
     "metadata": {},
     "output_type": "execute_result"
    }
   ],
   "source": [
    "cartoon.index"
   ]
  },
  {
   "cell_type": "code",
   "execution_count": 8,
   "metadata": {},
   "outputs": [
    {
     "data": {
      "text/plain": [
       "True"
      ]
     },
     "execution_count": 8,
     "metadata": {},
     "output_type": "execute_result"
    }
   ],
   "source": [
    "121 in cartoon"
   ]
  },
  {
   "cell_type": "markdown",
   "metadata": {},
   "source": [
    "# \"pikachoo\" in cartoon.values\n",
    "# it tell it contain that values or not in boolean"
   ]
  },
  {
   "cell_type": "code",
   "execution_count": null,
   "metadata": {},
   "outputs": [],
   "source": []
  },
  {
   "cell_type": "code",
   "execution_count": 12,
   "metadata": {},
   "outputs": [
    {
     "data": {
      "text/plain": [
       "'Psychic'"
      ]
     },
     "execution_count": 12,
     "metadata": {},
     "output_type": "execute_result"
    }
   ],
   "source": [
    "cartoon[200]\n",
    "# return that values"
   ]
  },
  {
   "cell_type": "code",
   "execution_count": 14,
   "metadata": {},
   "outputs": [
    {
     "data": {
      "text/plain": [
       "12.0       Bug\n",
       "34.0     Fairy\n",
       "457.3      NaN\n",
       "Name: Type, dtype: object"
      ]
     },
     "execution_count": 14,
     "metadata": {},
     "output_type": "execute_result"
    }
   ],
   "source": [
    "cartoon[[12,34,457.30]]"
   ]
  },
  {
   "cell_type": "code",
   "execution_count": 16,
   "metadata": {},
   "outputs": [
    {
     "data": {
      "text/plain": [
       "10    Bug\n",
       "11    Bug\n",
       "12    Bug\n",
       "13    Bug\n",
       "14    Bug\n",
       "Name: Type, dtype: object"
      ]
     },
     "execution_count": 16,
     "metadata": {},
     "output_type": "execute_result"
    }
   ],
   "source": [
    "cartoon[10:15]"
   ]
  },
  {
   "cell_type": "code",
   "execution_count": 17,
   "metadata": {},
   "outputs": [
    {
     "data": {
      "text/plain": [
       "0       Grass\n",
       "1       Grass\n",
       "2       Grass\n",
       "3        Fire\n",
       "4        Fire\n",
       "        ...  \n",
       "704    Dragon\n",
       "705    Dragon\n",
       "706     Steel\n",
       "707     Ghost\n",
       "708     Ghost\n",
       "Name: Type, Length: 709, dtype: object"
      ]
     },
     "execution_count": 17,
     "metadata": {},
     "output_type": "execute_result"
    }
   ],
   "source": [
    "cartoon[:-12]"
   ]
  },
  {
   "cell_type": "markdown",
   "metadata": {},
   "source": [
    "# extract values"
   ]
  },
  {
   "cell_type": "code",
   "execution_count": 3,
   "metadata": {},
   "outputs": [
    {
     "data": {
      "text/plain": [
       "Pokemon\n",
       "Bulbasaur       Grass\n",
       "Ivysaur         Grass\n",
       "Venusaur        Grass\n",
       "Charmander       Fire\n",
       "Charmeleon       Fire\n",
       "               ...   \n",
       "Yveltal          Dark\n",
       "Zygarde        Dragon\n",
       "Diancie          Rock\n",
       "Hoopa         Psychic\n",
       "Volcanion        Fire\n",
       "Name: Type, Length: 721, dtype: object"
      ]
     },
     "execution_count": 3,
     "metadata": {},
     "output_type": "execute_result"
    }
   ],
   "source": [
    "pd.read_csv(\"pokemon.csv\",index_col=\"Pokemon\",squeeze=True)"
   ]
  },
  {
   "cell_type": "code",
   "execution_count": 5,
   "metadata": {},
   "outputs": [
    {
     "name": "stderr",
     "output_type": "stream",
     "text": [
      "/opt/anaconda3/lib/python3.7/site-packages/ipykernel_launcher.py:1: FutureWarning: The signature of `Series.to_csv` was aligned to that of `DataFrame.to_csv`, and argument 'header' will change its default value from False to True: please pass an explicit value to suppress this warning.\n",
      "  \"\"\"Entry point for launching an IPython kernel.\n"
     ]
    }
   ],
   "source": [
    "cartoon.to_csv(\"catroon.csv\",index= False)"
   ]
  },
  {
   "cell_type": "code",
   "execution_count": null,
   "metadata": {},
   "outputs": [],
   "source": []
  },
  {
   "cell_type": "code",
   "execution_count": null,
   "metadata": {},
   "outputs": [],
   "source": []
  }
 ],
 "metadata": {
  "kernelspec": {
   "display_name": "Python 3",
   "language": "python",
   "name": "python3"
  },
  "language_info": {
   "codemirror_mode": {
    "name": "ipython",
    "version": 3
   },
   "file_extension": ".py",
   "mimetype": "text/x-python",
   "name": "python",
   "nbconvert_exporter": "python",
   "pygments_lexer": "ipython3",
   "version": "3.7.4"
  }
 },
 "nbformat": 4,
 "nbformat_minor": 2
}
